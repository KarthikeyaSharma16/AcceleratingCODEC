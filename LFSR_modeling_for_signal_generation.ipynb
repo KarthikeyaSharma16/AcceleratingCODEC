{
 "cells": [
  {
   "cell_type": "code",
   "execution_count": 1,
   "metadata": {},
   "outputs": [
    {
     "name": "stdout",
     "output_type": "stream",
     "text": [
      "Collecting sounddevice\n",
      "  Downloading sounddevice-0.4.7-py3-none-win_amd64.whl.metadata (1.4 kB)\n",
      "Requirement already satisfied: CFFI>=1.0 in c:\\users\\karth\\anaconda3\\envs\\facebook_extract\\lib\\site-packages (from sounddevice) (1.16.0)\n",
      "Requirement already satisfied: pycparser in c:\\users\\karth\\anaconda3\\envs\\facebook_extract\\lib\\site-packages (from CFFI>=1.0->sounddevice) (2.22)\n",
      "Downloading sounddevice-0.4.7-py3-none-win_amd64.whl (200 kB)\n",
      "   ---------------------------------------- 0.0/200.1 kB ? eta -:--:--\n",
      "   ----- --------------------------------- 30.7/200.1 kB 660.6 kB/s eta 0:00:01\n",
      "   ---------------------------------------- 200.1/200.1 kB 3.1 MB/s eta 0:00:00\n",
      "Installing collected packages: sounddevice\n",
      "Successfully installed sounddevice-0.4.7\n",
      "Note: you may need to restart the kernel to use updated packages.\n"
     ]
    }
   ],
   "source": [
    "pip install sounddevice"
   ]
  },
  {
   "cell_type": "code",
   "execution_count": 16,
   "metadata": {},
   "outputs": [],
   "source": [
    "import numpy as np\n",
    "import sounddevice as sd\n",
    "\n",
    "def lfsr(seed, taps, length):\n",
    "    lfsr = seed\n",
    "    seq = []\n",
    "    for _ in range(length):\n",
    "        # XOR the bits at the specified tap positions\n",
    "        bit = -1\n",
    "        for tap in taps:\n",
    "            if bit == -1:\n",
    "                bit = lfsr[tap]\n",
    "            else:\n",
    "                bit ^= lfsr[tap]\n",
    "        seq.append(lfsr[-1])\n",
    "        lfsr = np.roll(lfsr, 1)\n",
    "        lfsr[0] = bit\n",
    "    return np.array(seq)\n",
    "\n",
    "def generate_square_wave(lfsr_sequence, sample_rate, frequency):\n",
    "    t = np.linspace(0, len(lfsr_sequence) / sample_rate, len(lfsr_sequence), endpoint=False)\n",
    "    square_wave = np.sign(np.sin(2 * np.pi * frequency * t))\n",
    "    # Modulate square wave with LFSR sequence\n",
    "    waveform = square_wave * (2 * lfsr_sequence - 1)  # Convert LFSR (0,1) to (-1,1)\n",
    "    return waveform\n",
    "\n",
    "def main():\n",
    "    taps_more = [[2,3],[6,3,7],[4,8,2,1,0,6]]\n",
    "    # LFSR configuration\n",
    "    seed = np.array([1, 0, 0, 1, 0, 0, 0, 1, 1])  # Initial state of the LFSR (9 bits)\n",
    "    length = 44100  # Length of the LFSR sequence\n",
    "\n",
    "    for taps in taps_more:\n",
    "        # Generate LFSR sequence\n",
    "        lfsr_seq = lfsr(seed, taps, length)\n",
    "\n",
    "        # Audio configuration\n",
    "        sample_rate = 44100  # Sampling rate in Hz\n",
    "        frequency = 440  # Frequency of the square wave (A4 note)\n",
    "\n",
    "        # Generate the tone based on the LFSR sequence\n",
    "        tone = generate_square_wave(lfsr_seq, sample_rate, frequency)\n",
    "\n",
    "        # Play the generated tone\n",
    "        sd.play(tone, sample_rate)\n",
    "        sd.wait()  # Wait until the sound has finished playing\n",
    "\n",
    "if __name__ == \"__main__\":\n",
    "    main()\n"
   ]
  },
  {
   "cell_type": "code",
   "execution_count": null,
   "metadata": {},
   "outputs": [],
   "source": []
  }
 ],
 "metadata": {
  "kernelspec": {
   "display_name": "facebook_extract",
   "language": "python",
   "name": "python3"
  },
  "language_info": {
   "codemirror_mode": {
    "name": "ipython",
    "version": 3
   },
   "file_extension": ".py",
   "mimetype": "text/x-python",
   "name": "python",
   "nbconvert_exporter": "python",
   "pygments_lexer": "ipython3",
   "version": "3.10.12"
  }
 },
 "nbformat": 4,
 "nbformat_minor": 2
}
